{
 "cells": [
  {
   "cell_type": "markdown",
   "id": "5d1f022b-844b-482c-a0bf-aab722fdf273",
   "metadata": {},
   "source": [
    "# 1. Importing Libraries"
   ]
  },
  {
   "cell_type": "code",
   "execution_count": 166,
   "id": "34acb621-4113-42d8-a282-90ccd805d973",
   "metadata": {},
   "outputs": [],
   "source": [
    "import pandas as pd\n",
    "import numpy as sns\n",
    "\n",
    "import matplotlib.pyplot as plt\n",
    "import seaborn as sns\n",
    "\n",
    "from sklearn.preprocessing import OneHotEncoder\n",
    "from sklearn.model_selection import train_test_split\n",
    "from sklearn.metrics import r2_score, accuracy_score, classification_report, precision_recall_fscore_support\n",
    "from scipy.stats import chi2_contingency, f_oneway\n",
    "from statsmodels.stats.outliers_influence import variance_inflation_factor\n",
    "from sklearn.ensemble import RandomForestClassifier\n",
    "\n",
    "import os\n",
    "import warnings"
   ]
  },
  {
   "cell_type": "markdown",
   "id": "c5be9673-cbc8-4d84-a4c6-05e4c60bfeb4",
   "metadata": {
    "jp-MarkdownHeadingCollapsed": true
   },
   "source": [
    "# 2. Reading Datasets "
   ]
  },
  {
   "cell_type": "code",
   "execution_count": 5,
   "id": "151f9cea-0338-4888-81e8-81dcdcc14ca5",
   "metadata": {},
   "outputs": [],
   "source": [
    "a1 = pd.read_excel(\"data/case_study1.xlsx\")\n",
    "a2 = pd.read_excel(\"data/case_study2.xlsx\")"
   ]
  },
  {
   "cell_type": "code",
   "execution_count": 180,
   "id": "5c101689-601a-41ef-a58e-6695e844a2a5",
   "metadata": {},
   "outputs": [],
   "source": [
    "df1 = a1.copy()\n",
    "df2 = a2.copy()"
   ]
  },
  {
   "cell_type": "code",
   "execution_count": 181,
   "id": "e681db44-b4a7-43b3-be06-9a9c40053a36",
   "metadata": {
    "scrolled": true
   },
   "outputs": [
    {
     "data": {
      "text/plain": [
       "((51336, 26), (51336, 62))"
      ]
     },
     "execution_count": 181,
     "metadata": {},
     "output_type": "execute_result"
    }
   ],
   "source": [
    "df1.shape, df2.shape"
   ]
  },
  {
   "cell_type": "code",
   "execution_count": 182,
   "id": "cfe1d99a-0a05-49fd-9e94-44dd9bb04035",
   "metadata": {},
   "outputs": [
    {
     "name": "stdout",
     "output_type": "stream",
     "text": [
      "<class 'pandas.core.frame.DataFrame'>\n",
      "RangeIndex: 51336 entries, 0 to 51335\n",
      "Data columns (total 26 columns):\n",
      " #   Column                Non-Null Count  Dtype  \n",
      "---  ------                --------------  -----  \n",
      " 0   PROSPECTID            51336 non-null  int64  \n",
      " 1   Total_TL              51336 non-null  int64  \n",
      " 2   Tot_Closed_TL         51336 non-null  int64  \n",
      " 3   Tot_Active_TL         51336 non-null  int64  \n",
      " 4   Total_TL_opened_L6M   51336 non-null  int64  \n",
      " 5   Tot_TL_closed_L6M     51336 non-null  int64  \n",
      " 6   pct_tl_open_L6M       51336 non-null  float64\n",
      " 7   pct_tl_closed_L6M     51336 non-null  float64\n",
      " 8   pct_active_tl         51336 non-null  float64\n",
      " 9   pct_closed_tl         51336 non-null  float64\n",
      " 10  Total_TL_opened_L12M  51336 non-null  int64  \n",
      " 11  Tot_TL_closed_L12M    51336 non-null  int64  \n",
      " 12  pct_tl_open_L12M      51336 non-null  float64\n",
      " 13  pct_tl_closed_L12M    51336 non-null  float64\n",
      " 14  Tot_Missed_Pmnt       51336 non-null  int64  \n",
      " 15  Auto_TL               51336 non-null  int64  \n",
      " 16  CC_TL                 51336 non-null  int64  \n",
      " 17  Consumer_TL           51336 non-null  int64  \n",
      " 18  Gold_TL               51336 non-null  int64  \n",
      " 19  Home_TL               51336 non-null  int64  \n",
      " 20  PL_TL                 51336 non-null  int64  \n",
      " 21  Secured_TL            51336 non-null  int64  \n",
      " 22  Unsecured_TL          51336 non-null  int64  \n",
      " 23  Other_TL              51336 non-null  int64  \n",
      " 24  Age_Oldest_TL         51336 non-null  int64  \n",
      " 25  Age_Newest_TL         51336 non-null  int64  \n",
      "dtypes: float64(6), int64(20)\n",
      "memory usage: 10.2 MB\n"
     ]
    }
   ],
   "source": [
    "df1.info()"
   ]
  },
  {
   "cell_type": "code",
   "execution_count": 183,
   "id": "4b9f690b-664f-49e5-a1eb-f1a2d67eda10",
   "metadata": {},
   "outputs": [
    {
     "name": "stdout",
     "output_type": "stream",
     "text": [
      "<class 'pandas.core.frame.DataFrame'>\n",
      "RangeIndex: 51336 entries, 0 to 51335\n",
      "Data columns (total 62 columns):\n",
      " #   Column                        Non-Null Count  Dtype  \n",
      "---  ------                        --------------  -----  \n",
      " 0   PROSPECTID                    51336 non-null  int64  \n",
      " 1   time_since_recent_payment     51336 non-null  int64  \n",
      " 2   time_since_first_deliquency   51336 non-null  int64  \n",
      " 3   time_since_recent_deliquency  51336 non-null  int64  \n",
      " 4   num_times_delinquent          51336 non-null  int64  \n",
      " 5   max_delinquency_level         51336 non-null  int64  \n",
      " 6   max_recent_level_of_deliq     51336 non-null  int64  \n",
      " 7   num_deliq_6mts                51336 non-null  int64  \n",
      " 8   num_deliq_12mts               51336 non-null  int64  \n",
      " 9   num_deliq_6_12mts             51336 non-null  int64  \n",
      " 10  max_deliq_6mts                51336 non-null  int64  \n",
      " 11  max_deliq_12mts               51336 non-null  int64  \n",
      " 12  num_times_30p_dpd             51336 non-null  int64  \n",
      " 13  num_times_60p_dpd             51336 non-null  int64  \n",
      " 14  num_std                       51336 non-null  int64  \n",
      " 15  num_std_6mts                  51336 non-null  int64  \n",
      " 16  num_std_12mts                 51336 non-null  int64  \n",
      " 17  num_sub                       51336 non-null  int64  \n",
      " 18  num_sub_6mts                  51336 non-null  int64  \n",
      " 19  num_sub_12mts                 51336 non-null  int64  \n",
      " 20  num_dbt                       51336 non-null  int64  \n",
      " 21  num_dbt_6mts                  51336 non-null  int64  \n",
      " 22  num_dbt_12mts                 51336 non-null  int64  \n",
      " 23  num_lss                       51336 non-null  int64  \n",
      " 24  num_lss_6mts                  51336 non-null  int64  \n",
      " 25  num_lss_12mts                 51336 non-null  int64  \n",
      " 26  recent_level_of_deliq         51336 non-null  int64  \n",
      " 27  tot_enq                       51336 non-null  int64  \n",
      " 28  CC_enq                        51336 non-null  int64  \n",
      " 29  CC_enq_L6m                    51336 non-null  int64  \n",
      " 30  CC_enq_L12m                   51336 non-null  int64  \n",
      " 31  PL_enq                        51336 non-null  int64  \n",
      " 32  PL_enq_L6m                    51336 non-null  int64  \n",
      " 33  PL_enq_L12m                   51336 non-null  int64  \n",
      " 34  time_since_recent_enq         51336 non-null  int64  \n",
      " 35  enq_L12m                      51336 non-null  int64  \n",
      " 36  enq_L6m                       51336 non-null  int64  \n",
      " 37  enq_L3m                       51336 non-null  int64  \n",
      " 38  MARITALSTATUS                 51336 non-null  object \n",
      " 39  EDUCATION                     51336 non-null  object \n",
      " 40  AGE                           51336 non-null  int64  \n",
      " 41  GENDER                        51336 non-null  object \n",
      " 42  NETMONTHLYINCOME              51336 non-null  int64  \n",
      " 43  Time_With_Curr_Empr           51336 non-null  int64  \n",
      " 44  pct_of_active_TLs_ever        51336 non-null  float64\n",
      " 45  pct_opened_TLs_L6m_of_L12m    51336 non-null  float64\n",
      " 46  pct_currentBal_all_TL         51336 non-null  float64\n",
      " 47  CC_utilization                51336 non-null  float64\n",
      " 48  CC_Flag                       51336 non-null  int64  \n",
      " 49  PL_utilization                51336 non-null  float64\n",
      " 50  PL_Flag                       51336 non-null  int64  \n",
      " 51  pct_PL_enq_L6m_of_L12m        51336 non-null  float64\n",
      " 52  pct_CC_enq_L6m_of_L12m        51336 non-null  float64\n",
      " 53  pct_PL_enq_L6m_of_ever        51336 non-null  float64\n",
      " 54  pct_CC_enq_L6m_of_ever        51336 non-null  float64\n",
      " 55  max_unsec_exposure_inPct      51336 non-null  float64\n",
      " 56  HL_Flag                       51336 non-null  int64  \n",
      " 57  GL_Flag                       51336 non-null  int64  \n",
      " 58  last_prod_enq2                51336 non-null  object \n",
      " 59  first_prod_enq2               51336 non-null  object \n",
      " 60  Credit_Score                  51336 non-null  int64  \n",
      " 61  Approved_Flag                 51336 non-null  object \n",
      "dtypes: float64(10), int64(46), object(6)\n",
      "memory usage: 24.3+ MB\n"
     ]
    }
   ],
   "source": [
    "df2.info()"
   ]
  },
  {
   "cell_type": "markdown",
   "id": "857be605-f48c-4f70-b39b-84a341cc28da",
   "metadata": {
    "jp-MarkdownHeadingCollapsed": true
   },
   "source": [
    "# 3. Handling Null Values\n",
    "\n",
    "In these DF null values are represented by -99999.<br>\n",
    "Also we take following rules into consideration while dealing null values:\n",
    "- Since this is a very sensitive data and we don't want to make any assumption about the missing values and don't want to impute them with some other values. Hence,\n",
    "- If there is more than 20% data in a particular column that is missing, then we'll drop that column.\n",
    "- If there is less than 20% missing data, we will remove those rows from the dataset."
   ]
  },
  {
   "cell_type": "code",
   "execution_count": 184,
   "id": "6a213fa8-185d-4923-bee3-29478b0c877a",
   "metadata": {},
   "outputs": [
    {
     "data": {
      "text/plain": [
       "Age_Oldest_TL    0.077918\n",
       "Age_Newest_TL    0.077918\n",
       "dtype: float64"
      ]
     },
     "execution_count": 184,
     "metadata": {},
     "output_type": "execute_result"
    }
   ],
   "source": [
    "# percent of Null data in each column of DF1\n",
    "100*(df1 == -99999).mean()[(df1 == -99999).mean() > 0].sort_values(ascending=False)"
   ]
  },
  {
   "cell_type": "code",
   "execution_count": 185,
   "id": "86b3f7b6-39dc-4426-b3f3-3aef41c60916",
   "metadata": {},
   "outputs": [
    {
     "data": {
      "text/plain": [
       "CC_utilization                  92.792582\n",
       "PL_utilization                  86.557192\n",
       "time_since_recent_deliquency    70.026882\n",
       "max_delinquency_level           70.026882\n",
       "time_since_first_deliquency     70.026882\n",
       "max_unsec_exposure_inPct        45.149603\n",
       "max_deliq_6mts                  25.109085\n",
       "max_deliq_12mts                 21.100203\n",
       "time_since_recent_enq           12.312997\n",
       "enq_L3m                         12.312997\n",
       "enq_L6m                         12.312997\n",
       "enq_L12m                        12.312997\n",
       "PL_enq                          12.312997\n",
       "PL_enq_L12m                     12.312997\n",
       "PL_enq_L6m                      12.312997\n",
       "CC_enq_L12m                     12.312997\n",
       "CC_enq_L6m                      12.312997\n",
       "CC_enq                          12.312997\n",
       "tot_enq                         12.312997\n",
       "time_since_recent_payment        8.358657\n",
       "pct_currentBal_all_TL            0.140252\n",
       "dtype: float64"
      ]
     },
     "execution_count": 185,
     "metadata": {},
     "output_type": "execute_result"
    }
   ],
   "source": [
    "# %tage of null data in each column of DF2\n",
    "null_cols = (df2 == -99999).mean()[(df2 == -99999).mean()>0]*100\n",
    "null_cols.sort_values(ascending=False)"
   ]
  },
  {
   "cell_type": "code",
   "execution_count": 186,
   "id": "952686d0-6327-4bbf-b8cc-7c88febac56c",
   "metadata": {},
   "outputs": [],
   "source": [
    "# removing rows from first dataset as  null% < 20%\n",
    "\n",
    "df1 = df1.loc[(df1[\"Age_Oldest_TL\"] != -99999) & (df1 [\"Age_Newest_TL\"] != -99999)]"
   ]
  },
  {
   "cell_type": "code",
   "execution_count": 187,
   "id": "551d6138-3215-4655-b651-ef76d3bd3e3e",
   "metadata": {},
   "outputs": [],
   "source": [
    "# removing columns from DF2 where null % > 20%\n",
    "\n",
    "columns_to_drop = []\n",
    "for col in df2.columns:\n",
    "    if df2.loc[df2[col] == -99999].shape[0] > 10000:\n",
    "        columns_to_drop.append(col)\n",
    "columns_to_drop\n",
    "df2.drop(columns=columns_to_drop, inplace=True)"
   ]
  },
  {
   "cell_type": "code",
   "execution_count": 188,
   "id": "8a8d5460-a08a-470f-9e2c-118bd1b1127f",
   "metadata": {},
   "outputs": [],
   "source": [
    "# removing null rows from DF2 where null % < 20%\n",
    "\n",
    "for col in df2.columns:\n",
    "    df2 = df2.loc[df2[col] != -99999]"
   ]
  },
  {
   "cell_type": "code",
   "execution_count": 189,
   "id": "b4584ebe-4ba3-42c6-aca6-25ee57cf6b34",
   "metadata": {},
   "outputs": [
    {
     "data": {
      "text/plain": [
       "(0, 0)"
      ]
     },
     "execution_count": 189,
     "metadata": {},
     "output_type": "execute_result"
    }
   ],
   "source": [
    "df1.isnull().sum().sum(),df2.isnull().sum().sum()"
   ]
  },
  {
   "cell_type": "markdown",
   "id": "24280984-a5bd-4ed8-bf09-c18252f31b7c",
   "metadata": {
    "jp-MarkdownHeadingCollapsed": true
   },
   "source": [
    "# 4. Mergin two datasets "
   ]
  },
  {
   "cell_type": "code",
   "execution_count": 190,
   "id": "f7982145-a996-483e-8058-28f1ee7c98d9",
   "metadata": {},
   "outputs": [
    {
     "data": {
      "text/plain": [
       "{'PROSPECTID'}"
      ]
     },
     "execution_count": 190,
     "metadata": {},
     "output_type": "execute_result"
    }
   ],
   "source": [
    "# checking for common colums in DF1 and DF2\n",
    "col1 = set(df1.columns)\n",
    "col2 = set(df2.columns)\n",
    "col1.intersection(col2)"
   ]
  },
  {
   "cell_type": "code",
   "execution_count": 191,
   "id": "d7e729c5-5d56-40d7-9d16-73e182324c57",
   "metadata": {},
   "outputs": [],
   "source": [
    "# merging datasets on \"PROSPECTID\"\n",
    "df = pd.merge(df1, df2, how=\"inner\", on=\"PROSPECTID\")"
   ]
  },
  {
   "cell_type": "code",
   "execution_count": 192,
   "id": "841302cd-5be7-4a66-af8d-9bbe2d378d1c",
   "metadata": {},
   "outputs": [
    {
     "data": {
      "text/html": [
       "<div>\n",
       "<style scoped>\n",
       "    .dataframe tbody tr th:only-of-type {\n",
       "        vertical-align: middle;\n",
       "    }\n",
       "\n",
       "    .dataframe tbody tr th {\n",
       "        vertical-align: top;\n",
       "    }\n",
       "\n",
       "    .dataframe thead th {\n",
       "        text-align: right;\n",
       "    }\n",
       "</style>\n",
       "<table border=\"1\" class=\"dataframe\">\n",
       "  <thead>\n",
       "    <tr style=\"text-align: right;\">\n",
       "      <th></th>\n",
       "      <th>PROSPECTID</th>\n",
       "      <th>Total_TL</th>\n",
       "      <th>Tot_Closed_TL</th>\n",
       "      <th>Tot_Active_TL</th>\n",
       "      <th>Total_TL_opened_L6M</th>\n",
       "      <th>Tot_TL_closed_L6M</th>\n",
       "      <th>pct_tl_open_L6M</th>\n",
       "      <th>pct_tl_closed_L6M</th>\n",
       "      <th>pct_active_tl</th>\n",
       "      <th>pct_closed_tl</th>\n",
       "      <th>...</th>\n",
       "      <th>pct_PL_enq_L6m_of_L12m</th>\n",
       "      <th>pct_CC_enq_L6m_of_L12m</th>\n",
       "      <th>pct_PL_enq_L6m_of_ever</th>\n",
       "      <th>pct_CC_enq_L6m_of_ever</th>\n",
       "      <th>HL_Flag</th>\n",
       "      <th>GL_Flag</th>\n",
       "      <th>last_prod_enq2</th>\n",
       "      <th>first_prod_enq2</th>\n",
       "      <th>Credit_Score</th>\n",
       "      <th>Approved_Flag</th>\n",
       "    </tr>\n",
       "  </thead>\n",
       "  <tbody>\n",
       "    <tr>\n",
       "      <th>0</th>\n",
       "      <td>1</td>\n",
       "      <td>5</td>\n",
       "      <td>4</td>\n",
       "      <td>1</td>\n",
       "      <td>0</td>\n",
       "      <td>0</td>\n",
       "      <td>0.000</td>\n",
       "      <td>0.00</td>\n",
       "      <td>0.200</td>\n",
       "      <td>0.800</td>\n",
       "      <td>...</td>\n",
       "      <td>0.0</td>\n",
       "      <td>0.0</td>\n",
       "      <td>0.000</td>\n",
       "      <td>0.0</td>\n",
       "      <td>1</td>\n",
       "      <td>0</td>\n",
       "      <td>PL</td>\n",
       "      <td>PL</td>\n",
       "      <td>696</td>\n",
       "      <td>P2</td>\n",
       "    </tr>\n",
       "    <tr>\n",
       "      <th>1</th>\n",
       "      <td>2</td>\n",
       "      <td>1</td>\n",
       "      <td>0</td>\n",
       "      <td>1</td>\n",
       "      <td>0</td>\n",
       "      <td>0</td>\n",
       "      <td>0.000</td>\n",
       "      <td>0.00</td>\n",
       "      <td>1.000</td>\n",
       "      <td>0.000</td>\n",
       "      <td>...</td>\n",
       "      <td>0.0</td>\n",
       "      <td>0.0</td>\n",
       "      <td>0.000</td>\n",
       "      <td>0.0</td>\n",
       "      <td>0</td>\n",
       "      <td>0</td>\n",
       "      <td>ConsumerLoan</td>\n",
       "      <td>ConsumerLoan</td>\n",
       "      <td>685</td>\n",
       "      <td>P2</td>\n",
       "    </tr>\n",
       "    <tr>\n",
       "      <th>2</th>\n",
       "      <td>3</td>\n",
       "      <td>8</td>\n",
       "      <td>0</td>\n",
       "      <td>8</td>\n",
       "      <td>1</td>\n",
       "      <td>0</td>\n",
       "      <td>0.125</td>\n",
       "      <td>0.00</td>\n",
       "      <td>1.000</td>\n",
       "      <td>0.000</td>\n",
       "      <td>...</td>\n",
       "      <td>0.0</td>\n",
       "      <td>0.0</td>\n",
       "      <td>0.000</td>\n",
       "      <td>0.0</td>\n",
       "      <td>1</td>\n",
       "      <td>0</td>\n",
       "      <td>ConsumerLoan</td>\n",
       "      <td>others</td>\n",
       "      <td>693</td>\n",
       "      <td>P2</td>\n",
       "    </tr>\n",
       "    <tr>\n",
       "      <th>3</th>\n",
       "      <td>5</td>\n",
       "      <td>3</td>\n",
       "      <td>2</td>\n",
       "      <td>1</td>\n",
       "      <td>0</td>\n",
       "      <td>0</td>\n",
       "      <td>0.000</td>\n",
       "      <td>0.00</td>\n",
       "      <td>0.333</td>\n",
       "      <td>0.667</td>\n",
       "      <td>...</td>\n",
       "      <td>0.0</td>\n",
       "      <td>0.0</td>\n",
       "      <td>0.000</td>\n",
       "      <td>0.0</td>\n",
       "      <td>0</td>\n",
       "      <td>0</td>\n",
       "      <td>AL</td>\n",
       "      <td>AL</td>\n",
       "      <td>753</td>\n",
       "      <td>P1</td>\n",
       "    </tr>\n",
       "    <tr>\n",
       "      <th>4</th>\n",
       "      <td>6</td>\n",
       "      <td>6</td>\n",
       "      <td>5</td>\n",
       "      <td>1</td>\n",
       "      <td>0</td>\n",
       "      <td>0</td>\n",
       "      <td>0.000</td>\n",
       "      <td>0.00</td>\n",
       "      <td>0.167</td>\n",
       "      <td>0.833</td>\n",
       "      <td>...</td>\n",
       "      <td>1.0</td>\n",
       "      <td>0.0</td>\n",
       "      <td>0.429</td>\n",
       "      <td>0.0</td>\n",
       "      <td>1</td>\n",
       "      <td>0</td>\n",
       "      <td>ConsumerLoan</td>\n",
       "      <td>PL</td>\n",
       "      <td>668</td>\n",
       "      <td>P3</td>\n",
       "    </tr>\n",
       "    <tr>\n",
       "      <th>...</th>\n",
       "      <td>...</td>\n",
       "      <td>...</td>\n",
       "      <td>...</td>\n",
       "      <td>...</td>\n",
       "      <td>...</td>\n",
       "      <td>...</td>\n",
       "      <td>...</td>\n",
       "      <td>...</td>\n",
       "      <td>...</td>\n",
       "      <td>...</td>\n",
       "      <td>...</td>\n",
       "      <td>...</td>\n",
       "      <td>...</td>\n",
       "      <td>...</td>\n",
       "      <td>...</td>\n",
       "      <td>...</td>\n",
       "      <td>...</td>\n",
       "      <td>...</td>\n",
       "      <td>...</td>\n",
       "      <td>...</td>\n",
       "      <td>...</td>\n",
       "    </tr>\n",
       "    <tr>\n",
       "      <th>42059</th>\n",
       "      <td>51332</td>\n",
       "      <td>3</td>\n",
       "      <td>0</td>\n",
       "      <td>3</td>\n",
       "      <td>1</td>\n",
       "      <td>0</td>\n",
       "      <td>0.333</td>\n",
       "      <td>0.00</td>\n",
       "      <td>1.000</td>\n",
       "      <td>0.000</td>\n",
       "      <td>...</td>\n",
       "      <td>0.0</td>\n",
       "      <td>0.0</td>\n",
       "      <td>0.000</td>\n",
       "      <td>0.0</td>\n",
       "      <td>0</td>\n",
       "      <td>0</td>\n",
       "      <td>ConsumerLoan</td>\n",
       "      <td>ConsumerLoan</td>\n",
       "      <td>650</td>\n",
       "      <td>P4</td>\n",
       "    </tr>\n",
       "    <tr>\n",
       "      <th>42060</th>\n",
       "      <td>51333</td>\n",
       "      <td>4</td>\n",
       "      <td>2</td>\n",
       "      <td>2</td>\n",
       "      <td>0</td>\n",
       "      <td>1</td>\n",
       "      <td>0.000</td>\n",
       "      <td>0.25</td>\n",
       "      <td>0.500</td>\n",
       "      <td>0.500</td>\n",
       "      <td>...</td>\n",
       "      <td>0.0</td>\n",
       "      <td>0.0</td>\n",
       "      <td>0.000</td>\n",
       "      <td>0.0</td>\n",
       "      <td>0</td>\n",
       "      <td>0</td>\n",
       "      <td>others</td>\n",
       "      <td>others</td>\n",
       "      <td>702</td>\n",
       "      <td>P1</td>\n",
       "    </tr>\n",
       "    <tr>\n",
       "      <th>42061</th>\n",
       "      <td>51334</td>\n",
       "      <td>2</td>\n",
       "      <td>1</td>\n",
       "      <td>1</td>\n",
       "      <td>1</td>\n",
       "      <td>1</td>\n",
       "      <td>0.500</td>\n",
       "      <td>0.50</td>\n",
       "      <td>0.500</td>\n",
       "      <td>0.500</td>\n",
       "      <td>...</td>\n",
       "      <td>1.0</td>\n",
       "      <td>0.0</td>\n",
       "      <td>1.000</td>\n",
       "      <td>0.0</td>\n",
       "      <td>0</td>\n",
       "      <td>0</td>\n",
       "      <td>ConsumerLoan</td>\n",
       "      <td>others</td>\n",
       "      <td>661</td>\n",
       "      <td>P3</td>\n",
       "    </tr>\n",
       "    <tr>\n",
       "      <th>42062</th>\n",
       "      <td>51335</td>\n",
       "      <td>2</td>\n",
       "      <td>1</td>\n",
       "      <td>1</td>\n",
       "      <td>0</td>\n",
       "      <td>0</td>\n",
       "      <td>0.000</td>\n",
       "      <td>0.00</td>\n",
       "      <td>0.500</td>\n",
       "      <td>0.500</td>\n",
       "      <td>...</td>\n",
       "      <td>0.0</td>\n",
       "      <td>0.0</td>\n",
       "      <td>0.000</td>\n",
       "      <td>0.0</td>\n",
       "      <td>0</td>\n",
       "      <td>0</td>\n",
       "      <td>ConsumerLoan</td>\n",
       "      <td>others</td>\n",
       "      <td>686</td>\n",
       "      <td>P2</td>\n",
       "    </tr>\n",
       "    <tr>\n",
       "      <th>42063</th>\n",
       "      <td>51336</td>\n",
       "      <td>1</td>\n",
       "      <td>0</td>\n",
       "      <td>1</td>\n",
       "      <td>0</td>\n",
       "      <td>0</td>\n",
       "      <td>0.000</td>\n",
       "      <td>0.00</td>\n",
       "      <td>1.000</td>\n",
       "      <td>0.000</td>\n",
       "      <td>...</td>\n",
       "      <td>0.0</td>\n",
       "      <td>0.0</td>\n",
       "      <td>0.000</td>\n",
       "      <td>0.0</td>\n",
       "      <td>0</td>\n",
       "      <td>0</td>\n",
       "      <td>others</td>\n",
       "      <td>others</td>\n",
       "      <td>681</td>\n",
       "      <td>P2</td>\n",
       "    </tr>\n",
       "  </tbody>\n",
       "</table>\n",
       "<p>42064 rows × 79 columns</p>\n",
       "</div>"
      ],
      "text/plain": [
       "       PROSPECTID  Total_TL  Tot_Closed_TL  Tot_Active_TL  \\\n",
       "0               1         5              4              1   \n",
       "1               2         1              0              1   \n",
       "2               3         8              0              8   \n",
       "3               5         3              2              1   \n",
       "4               6         6              5              1   \n",
       "...           ...       ...            ...            ...   \n",
       "42059       51332         3              0              3   \n",
       "42060       51333         4              2              2   \n",
       "42061       51334         2              1              1   \n",
       "42062       51335         2              1              1   \n",
       "42063       51336         1              0              1   \n",
       "\n",
       "       Total_TL_opened_L6M  Tot_TL_closed_L6M  pct_tl_open_L6M  \\\n",
       "0                        0                  0            0.000   \n",
       "1                        0                  0            0.000   \n",
       "2                        1                  0            0.125   \n",
       "3                        0                  0            0.000   \n",
       "4                        0                  0            0.000   \n",
       "...                    ...                ...              ...   \n",
       "42059                    1                  0            0.333   \n",
       "42060                    0                  1            0.000   \n",
       "42061                    1                  1            0.500   \n",
       "42062                    0                  0            0.000   \n",
       "42063                    0                  0            0.000   \n",
       "\n",
       "       pct_tl_closed_L6M  pct_active_tl  pct_closed_tl  ...  \\\n",
       "0                   0.00          0.200          0.800  ...   \n",
       "1                   0.00          1.000          0.000  ...   \n",
       "2                   0.00          1.000          0.000  ...   \n",
       "3                   0.00          0.333          0.667  ...   \n",
       "4                   0.00          0.167          0.833  ...   \n",
       "...                  ...            ...            ...  ...   \n",
       "42059               0.00          1.000          0.000  ...   \n",
       "42060               0.25          0.500          0.500  ...   \n",
       "42061               0.50          0.500          0.500  ...   \n",
       "42062               0.00          0.500          0.500  ...   \n",
       "42063               0.00          1.000          0.000  ...   \n",
       "\n",
       "       pct_PL_enq_L6m_of_L12m  pct_CC_enq_L6m_of_L12m  pct_PL_enq_L6m_of_ever  \\\n",
       "0                         0.0                     0.0                   0.000   \n",
       "1                         0.0                     0.0                   0.000   \n",
       "2                         0.0                     0.0                   0.000   \n",
       "3                         0.0                     0.0                   0.000   \n",
       "4                         1.0                     0.0                   0.429   \n",
       "...                       ...                     ...                     ...   \n",
       "42059                     0.0                     0.0                   0.000   \n",
       "42060                     0.0                     0.0                   0.000   \n",
       "42061                     1.0                     0.0                   1.000   \n",
       "42062                     0.0                     0.0                   0.000   \n",
       "42063                     0.0                     0.0                   0.000   \n",
       "\n",
       "       pct_CC_enq_L6m_of_ever  HL_Flag  GL_Flag  last_prod_enq2  \\\n",
       "0                         0.0        1        0              PL   \n",
       "1                         0.0        0        0    ConsumerLoan   \n",
       "2                         0.0        1        0    ConsumerLoan   \n",
       "3                         0.0        0        0              AL   \n",
       "4                         0.0        1        0    ConsumerLoan   \n",
       "...                       ...      ...      ...             ...   \n",
       "42059                     0.0        0        0    ConsumerLoan   \n",
       "42060                     0.0        0        0          others   \n",
       "42061                     0.0        0        0    ConsumerLoan   \n",
       "42062                     0.0        0        0    ConsumerLoan   \n",
       "42063                     0.0        0        0          others   \n",
       "\n",
       "       first_prod_enq2  Credit_Score  Approved_Flag  \n",
       "0                   PL           696             P2  \n",
       "1         ConsumerLoan           685             P2  \n",
       "2               others           693             P2  \n",
       "3                   AL           753             P1  \n",
       "4                   PL           668             P3  \n",
       "...                ...           ...            ...  \n",
       "42059     ConsumerLoan           650             P4  \n",
       "42060           others           702             P1  \n",
       "42061           others           661             P3  \n",
       "42062           others           686             P2  \n",
       "42063           others           681             P2  \n",
       "\n",
       "[42064 rows x 79 columns]"
      ]
     },
     "execution_count": 192,
     "metadata": {},
     "output_type": "execute_result"
    }
   ],
   "source": [
    "df"
   ]
  },
  {
   "cell_type": "markdown",
   "id": "e29b818c-0bce-43d2-ac70-136fe21ef7d8",
   "metadata": {},
   "source": [
    "# 5. Features Selection: Categorical and Numerical Features "
   ]
  },
  {
   "cell_type": "markdown",
   "id": "5c548bac-6984-40c5-a6b5-9ac92dc66b62",
   "metadata": {},
   "source": [
    "## 5.1 Chi-square test for Categorical Features"
   ]
  },
  {
   "cell_type": "code",
   "execution_count": 193,
   "id": "272eed6c-c706-4082-ab43-e1b54862cc5c",
   "metadata": {},
   "outputs": [
    {
     "data": {
      "text/plain": [
       "['MARITALSTATUS', 'EDUCATION', 'GENDER', 'last_prod_enq2', 'first_prod_enq2']"
      ]
     },
     "execution_count": 193,
     "metadata": {},
     "output_type": "execute_result"
    }
   ],
   "source": [
    "categorical_cols = [col for col in df.columns if df[col].dtype == \"O\" and col != \"Approved_Flag\"]\n",
    "categorical_cols"
   ]
  },
  {
   "cell_type": "code",
   "execution_count": 194,
   "id": "0e421546-290a-4953-8759-f62e5fbd0976",
   "metadata": {},
   "outputs": [
    {
     "name": "stdout",
     "output_type": "stream",
     "text": [
      "MARITALSTATUS -----> 3.578180861038862e-233\n",
      "EDUCATION -----> 2.6942265249737532e-30\n",
      "GENDER -----> 1.907936100186563e-05\n",
      "last_prod_enq2 -----> 0.0\n",
      "first_prod_enq2 -----> 7.84997610555419e-287\n"
     ]
    }
   ],
   "source": [
    "for col in categorical_cols:\n",
    "    chi2, pvalue, dof, frequecies = chi2_contingency(pd.crosstab(df[col], df[\"Approved_Flag\"]))\n",
    "    print(col, \"----->\", pvalue)"
   ]
  },
  {
   "cell_type": "markdown",
   "id": "b44a701b-9e4e-4351-9423-76036dbd3f77",
   "metadata": {},
   "source": [
    "Since all the p-values are less than 0.05, we accept alternate hypothesis that all these columns have significant importance in deciding our label \"Approved_Flag\""
   ]
  },
  {
   "cell_type": "markdown",
   "id": "dfcfdd5c-2264-4b73-b7ef-c0421d01fe02",
   "metadata": {
    "jp-MarkdownHeadingCollapsed": true
   },
   "source": [
    "## 5.2 Checking for Multicollinearity: VIF "
   ]
  },
  {
   "cell_type": "code",
   "execution_count": 195,
   "id": "54a42a66-196f-4d19-9678-5d4d6a497ffa",
   "metadata": {},
   "outputs": [],
   "source": [
    "numerical_cols = [col for col in df.columns if df[col].dtype != \"O\" and col not in [\"PROSPECTID\"]]"
   ]
  },
  {
   "cell_type": "code",
   "execution_count": 196,
   "id": "78aa2483-b4d4-4bd7-af13-5c9201b749f2",
   "metadata": {},
   "outputs": [],
   "source": [
    "def sequential_vif(df, threshold=6):\n",
    "    columns_to_be_kept = []\n",
    "    index = 0\n",
    "    total_columns = df.shape[1]\n",
    "    column_names = df.columns\n",
    "\n",
    "    for i in range(0, total_columns):\n",
    "        vif_score = variance_inflation_factor(df, index)\n",
    "\n",
    "        if vif_score <= threshold:\n",
    "            columns_to_be_kept.append(column_names[i])\n",
    "            index += 1\n",
    "        else:\n",
    "            df = df.drop(columns=column_names[i])\n",
    "\n",
    "    return columns_to_be_kept"
   ]
  },
  {
   "cell_type": "code",
   "execution_count": 197,
   "id": "f361b3a0-7163-40fd-bb76-bf0e594c9122",
   "metadata": {},
   "outputs": [
    {
     "name": "stderr",
     "output_type": "stream",
     "text": [
      "C:\\Users\\riyac\\AppData\\Local\\Programs\\Python\\Python311\\Lib\\site-packages\\statsmodels\\stats\\outliers_influence.py:198: RuntimeWarning: divide by zero encountered in scalar divide\n",
      "  vif = 1. / (1. - r_squared_i)\n",
      "C:\\Users\\riyac\\AppData\\Local\\Programs\\Python\\Python311\\Lib\\site-packages\\statsmodels\\stats\\outliers_influence.py:198: RuntimeWarning: divide by zero encountered in scalar divide\n",
      "  vif = 1. / (1. - r_squared_i)\n",
      "C:\\Users\\riyac\\AppData\\Local\\Programs\\Python\\Python311\\Lib\\site-packages\\statsmodels\\stats\\outliers_influence.py:198: RuntimeWarning: divide by zero encountered in scalar divide\n",
      "  vif = 1. / (1. - r_squared_i)\n",
      "C:\\Users\\riyac\\AppData\\Local\\Programs\\Python\\Python311\\Lib\\site-packages\\statsmodels\\stats\\outliers_influence.py:198: RuntimeWarning: divide by zero encountered in scalar divide\n",
      "  vif = 1. / (1. - r_squared_i)\n",
      "C:\\Users\\riyac\\AppData\\Local\\Programs\\Python\\Python311\\Lib\\site-packages\\statsmodels\\stats\\outliers_influence.py:198: RuntimeWarning: divide by zero encountered in scalar divide\n",
      "  vif = 1. / (1. - r_squared_i)\n"
     ]
    }
   ],
   "source": [
    "vif_data = df[numerical_cols]\n",
    "non_multicollinear_cols = sequential_vif(vif_data)"
   ]
  },
  {
   "cell_type": "markdown",
   "id": "5247d16c-9236-4578-9ded-3e23c777dc68",
   "metadata": {},
   "source": [
    "## 5.3 One-Way ANNOVA for Numeric Feature Importance"
   ]
  },
  {
   "cell_type": "code",
   "execution_count": 198,
   "id": "5e4c6f71-adb8-422b-ad56-127ce24486f9",
   "metadata": {},
   "outputs": [],
   "source": [
    "numerical_columns_to_be_kept = [] \n",
    "\n",
    "for col in non_multicollinear_cols:\n",
    "    a = list(df[col])\n",
    "    b = list(df[\"Approved_Flag\"])\n",
    "\n",
    "    group_p1 = [value for value, group in zip(a,b) if group == \"P1\"]\n",
    "    group_p2 = [value for value, group in zip(a,b) if group == \"P2\"]\n",
    "    group_p3 = [value for value, group in zip(a,b) if group == \"P3\"]\n",
    "    group_p4 = [value for value, group in zip(a,b) if group == \"P4\"]\n",
    "\n",
    "    f_stats, p_value = f_oneway(group_p1, group_p2, group_p3,group_p4)\n",
    "\n",
    "    if p_value <= 0.05:\n",
    "        numerical_columns_to_be_kept.append(col)\n"
   ]
  },
  {
   "cell_type": "code",
   "execution_count": 199,
   "id": "bf51f302-1474-4fb6-a752-af0840fe1213",
   "metadata": {},
   "outputs": [
    {
     "data": {
      "text/plain": [
       "['pct_tl_open_L6M',\n",
       " 'pct_tl_closed_L6M',\n",
       " 'Tot_TL_closed_L12M',\n",
       " 'pct_tl_closed_L12M',\n",
       " 'Tot_Missed_Pmnt',\n",
       " 'CC_TL',\n",
       " 'Home_TL',\n",
       " 'PL_TL',\n",
       " 'Secured_TL',\n",
       " 'Unsecured_TL',\n",
       " 'Other_TL',\n",
       " 'Age_Oldest_TL',\n",
       " 'Age_Newest_TL',\n",
       " 'time_since_recent_payment',\n",
       " 'max_recent_level_of_deliq',\n",
       " 'num_deliq_6_12mts',\n",
       " 'num_times_60p_dpd',\n",
       " 'num_std_12mts',\n",
       " 'num_sub',\n",
       " 'num_sub_6mts',\n",
       " 'num_sub_12mts',\n",
       " 'num_dbt',\n",
       " 'num_dbt_12mts',\n",
       " 'num_lss',\n",
       " 'recent_level_of_deliq',\n",
       " 'CC_enq_L12m',\n",
       " 'PL_enq_L12m',\n",
       " 'time_since_recent_enq',\n",
       " 'enq_L3m',\n",
       " 'NETMONTHLYINCOME',\n",
       " 'Time_With_Curr_Empr',\n",
       " 'CC_Flag',\n",
       " 'PL_Flag',\n",
       " 'pct_PL_enq_L6m_of_ever',\n",
       " 'pct_CC_enq_L6m_of_ever',\n",
       " 'HL_Flag',\n",
       " 'GL_Flag']"
      ]
     },
     "execution_count": 199,
     "metadata": {},
     "output_type": "execute_result"
    }
   ],
   "source": [
    "numerical_columns_to_be_kept"
   ]
  },
  {
   "cell_type": "markdown",
   "id": "d862c92d-2695-486b-96d8-50eea642733c",
   "metadata": {},
   "source": [
    "## 5.4 Selecting only important columns"
   ]
  },
  {
   "cell_type": "code",
   "execution_count": 200,
   "id": "ba13e562-4609-4d91-9de9-188697182b6c",
   "metadata": {},
   "outputs": [],
   "source": [
    "features = categorical_cols + numerical_columns_to_be_kept + [\"Approved_Flag\"]\n",
    "df = df[features].copy()"
   ]
  },
  {
   "cell_type": "markdown",
   "id": "ac3d1e5c-c4b0-4b4e-ac60-6984dbfb990a",
   "metadata": {},
   "source": [
    "# 6. Encoding Categorical Columns "
   ]
  },
  {
   "cell_type": "code",
   "execution_count": 201,
   "id": "6bd29063-bd65-4a1b-9813-b0b4bf9acdde",
   "metadata": {},
   "outputs": [
    {
     "name": "stdout",
     "output_type": "stream",
     "text": [
      "MARITALSTATUS ---> ['Married' 'Single']\n",
      "EDUCATION ---> ['12TH' 'GRADUATE' 'SSC' 'POST-GRADUATE' 'UNDER GRADUATE' 'OTHERS'\n",
      " 'PROFESSIONAL']\n",
      "GENDER ---> ['M' 'F']\n",
      "last_prod_enq2 ---> ['PL' 'ConsumerLoan' 'AL' 'CC' 'others' 'HL']\n",
      "first_prod_enq2 ---> ['PL' 'ConsumerLoan' 'others' 'AL' 'HL' 'CC']\n"
     ]
    }
   ],
   "source": [
    "for col in categorical_cols:\n",
    "    print(col, \"--->\", df[col].unique())"
   ]
  },
  {
   "cell_type": "markdown",
   "id": "67881114-8bac-4305-ae32-2d9a0ed50fd1",
   "metadata": {},
   "source": [
    "- \"EDUCATION\" need to be Ordinal Encoded.\n",
    "- For all other features, we can OneHotEncode them.\n",
    "  "
   ]
  },
  {
   "cell_type": "markdown",
   "id": "ac2a720f-d8a9-40e7-af27-b5253f4269a3",
   "metadata": {},
   "source": [
    "## 6.1 Ordinal Enconding \n",
    "\n",
    "Ordinal feature -- EDUCATION Ordinal Order\n",
    "- SSC            : 1\n",
    "- 12TH           : 2\n",
    "- GRADUATE       : 3\n",
    "- UNDER GRADUATE : 3\n",
    "- POST-GRADUATE  : 4\n",
    "- OTHERS         : 1\n",
    "- PROFESSIONAL   : 3"
   ]
  },
  {
   "cell_type": "code",
   "execution_count": 202,
   "id": "eb656c2a-c423-4b85-9fb9-2aef9d0b5bc7",
   "metadata": {},
   "outputs": [],
   "source": [
    "replace_dict = {\n",
    "    \"SSC\": 1,\n",
    "    \"12TH\": 2,\n",
    "    \"GRADUATE\": 3,\n",
    "    \"UNDER GRADUATE\": 3,\n",
    "    \"POST-GRADUATE\": 4,\n",
    "    \"OTHERS\":1,\n",
    "    \"PROFESSIONAL\": 3\n",
    "}\n",
    "\n",
    "df[\"EDUCATION\"].replace(replace_dict, inplace=True)"
   ]
  },
  {
   "cell_type": "markdown",
   "id": "f977bc6a-8f30-404c-bbc7-dd0b4afcd99c",
   "metadata": {},
   "source": [
    "## 6.2 OneHot Encoding"
   ]
  },
  {
   "cell_type": "code",
   "execution_count": 217,
   "id": "b1caeeef-3e44-4ce3-805a-cae97256a84f",
   "metadata": {},
   "outputs": [],
   "source": [
    "ohe_cols = ['MARITALSTATUS', 'GENDER', 'last_prod_enq2', 'first_prod_enq2']\n",
    "ohe = OneHotEncoder(sparse_output=False)\n",
    "ohe_data = pd.DataFrame(data = ohe.fit_transform(df[ohe_cols]),\n",
    "                        columns= ohe.get_feature_names_out())\n",
    "\n",
    "df_encoded = df.drop(columns=ohe_cols)\n",
    "df_encoded = pd.concat([ohe_data, df_encoded], axis=1)"
   ]
  },
  {
   "cell_type": "code",
   "execution_count": 224,
   "id": "00fc23ee-e94f-4c23-9dbc-366d4d4a236f",
   "metadata": {
    "scrolled": true
   },
   "outputs": [
    {
     "name": "stdout",
     "output_type": "stream",
     "text": [
      "<class 'pandas.core.frame.DataFrame'>\n",
      "RangeIndex: 42064 entries, 0 to 42063\n",
      "Data columns (total 55 columns):\n",
      " #   Column                        Non-Null Count  Dtype  \n",
      "---  ------                        --------------  -----  \n",
      " 0   MARITALSTATUS_Married         42064 non-null  float64\n",
      " 1   MARITALSTATUS_Single          42064 non-null  float64\n",
      " 2   GENDER_F                      42064 non-null  float64\n",
      " 3   GENDER_M                      42064 non-null  float64\n",
      " 4   last_prod_enq2_AL             42064 non-null  float64\n",
      " 5   last_prod_enq2_CC             42064 non-null  float64\n",
      " 6   last_prod_enq2_ConsumerLoan   42064 non-null  float64\n",
      " 7   last_prod_enq2_HL             42064 non-null  float64\n",
      " 8   last_prod_enq2_PL             42064 non-null  float64\n",
      " 9   last_prod_enq2_others         42064 non-null  float64\n",
      " 10  first_prod_enq2_AL            42064 non-null  float64\n",
      " 11  first_prod_enq2_CC            42064 non-null  float64\n",
      " 12  first_prod_enq2_ConsumerLoan  42064 non-null  float64\n",
      " 13  first_prod_enq2_HL            42064 non-null  float64\n",
      " 14  first_prod_enq2_PL            42064 non-null  float64\n",
      " 15  first_prod_enq2_others        42064 non-null  float64\n",
      " 16  EDUCATION                     42064 non-null  int64  \n",
      " 17  pct_tl_open_L6M               42064 non-null  float64\n",
      " 18  pct_tl_closed_L6M             42064 non-null  float64\n",
      " 19  Tot_TL_closed_L12M            42064 non-null  int64  \n",
      " 20  pct_tl_closed_L12M            42064 non-null  float64\n",
      " 21  Tot_Missed_Pmnt               42064 non-null  int64  \n",
      " 22  CC_TL                         42064 non-null  int64  \n",
      " 23  Home_TL                       42064 non-null  int64  \n",
      " 24  PL_TL                         42064 non-null  int64  \n",
      " 25  Secured_TL                    42064 non-null  int64  \n",
      " 26  Unsecured_TL                  42064 non-null  int64  \n",
      " 27  Other_TL                      42064 non-null  int64  \n",
      " 28  Age_Oldest_TL                 42064 non-null  int64  \n",
      " 29  Age_Newest_TL                 42064 non-null  int64  \n",
      " 30  time_since_recent_payment     42064 non-null  int64  \n",
      " 31  max_recent_level_of_deliq     42064 non-null  int64  \n",
      " 32  num_deliq_6_12mts             42064 non-null  int64  \n",
      " 33  num_times_60p_dpd             42064 non-null  int64  \n",
      " 34  num_std_12mts                 42064 non-null  int64  \n",
      " 35  num_sub                       42064 non-null  int64  \n",
      " 36  num_sub_6mts                  42064 non-null  int64  \n",
      " 37  num_sub_12mts                 42064 non-null  int64  \n",
      " 38  num_dbt                       42064 non-null  int64  \n",
      " 39  num_dbt_12mts                 42064 non-null  int64  \n",
      " 40  num_lss                       42064 non-null  int64  \n",
      " 41  recent_level_of_deliq         42064 non-null  int64  \n",
      " 42  CC_enq_L12m                   42064 non-null  int64  \n",
      " 43  PL_enq_L12m                   42064 non-null  int64  \n",
      " 44  time_since_recent_enq         42064 non-null  int64  \n",
      " 45  enq_L3m                       42064 non-null  int64  \n",
      " 46  NETMONTHLYINCOME              42064 non-null  int64  \n",
      " 47  Time_With_Curr_Empr           42064 non-null  int64  \n",
      " 48  CC_Flag                       42064 non-null  int64  \n",
      " 49  PL_Flag                       42064 non-null  int64  \n",
      " 50  pct_PL_enq_L6m_of_ever        42064 non-null  float64\n",
      " 51  pct_CC_enq_L6m_of_ever        42064 non-null  float64\n",
      " 52  HL_Flag                       42064 non-null  int64  \n",
      " 53  GL_Flag                       42064 non-null  int64  \n",
      " 54  Approved_Flag                 42064 non-null  object \n",
      "dtypes: float64(21), int64(33), object(1)\n",
      "memory usage: 17.7+ MB\n"
     ]
    }
   ],
   "source": [
    "df_encoded.info()"
   ]
  },
  {
   "cell_type": "code",
   "execution_count": 225,
   "id": "03c2b681-d5a4-4a3b-b1b8-3e5e398306ea",
   "metadata": {},
   "outputs": [
    {
     "data": {
      "text/html": [
       "<div>\n",
       "<style scoped>\n",
       "    .dataframe tbody tr th:only-of-type {\n",
       "        vertical-align: middle;\n",
       "    }\n",
       "\n",
       "    .dataframe tbody tr th {\n",
       "        vertical-align: top;\n",
       "    }\n",
       "\n",
       "    .dataframe thead th {\n",
       "        text-align: right;\n",
       "    }\n",
       "</style>\n",
       "<table border=\"1\" class=\"dataframe\">\n",
       "  <thead>\n",
       "    <tr style=\"text-align: right;\">\n",
       "      <th></th>\n",
       "      <th>MARITALSTATUS_Married</th>\n",
       "      <th>MARITALSTATUS_Single</th>\n",
       "      <th>GENDER_F</th>\n",
       "      <th>GENDER_M</th>\n",
       "      <th>last_prod_enq2_AL</th>\n",
       "      <th>last_prod_enq2_CC</th>\n",
       "      <th>last_prod_enq2_ConsumerLoan</th>\n",
       "      <th>last_prod_enq2_HL</th>\n",
       "      <th>last_prod_enq2_PL</th>\n",
       "      <th>last_prod_enq2_others</th>\n",
       "      <th>...</th>\n",
       "      <th>enq_L3m</th>\n",
       "      <th>NETMONTHLYINCOME</th>\n",
       "      <th>Time_With_Curr_Empr</th>\n",
       "      <th>CC_Flag</th>\n",
       "      <th>PL_Flag</th>\n",
       "      <th>pct_PL_enq_L6m_of_ever</th>\n",
       "      <th>pct_CC_enq_L6m_of_ever</th>\n",
       "      <th>HL_Flag</th>\n",
       "      <th>GL_Flag</th>\n",
       "      <th>Approved_Flag</th>\n",
       "    </tr>\n",
       "  </thead>\n",
       "  <tbody>\n",
       "    <tr>\n",
       "      <th>0</th>\n",
       "      <td>1.0</td>\n",
       "      <td>0.0</td>\n",
       "      <td>0.0</td>\n",
       "      <td>1.0</td>\n",
       "      <td>0.0</td>\n",
       "      <td>0.0</td>\n",
       "      <td>0.0</td>\n",
       "      <td>0.0</td>\n",
       "      <td>1.0</td>\n",
       "      <td>0.0</td>\n",
       "      <td>...</td>\n",
       "      <td>0</td>\n",
       "      <td>51000</td>\n",
       "      <td>114</td>\n",
       "      <td>0</td>\n",
       "      <td>1</td>\n",
       "      <td>0.0</td>\n",
       "      <td>0.0</td>\n",
       "      <td>1</td>\n",
       "      <td>0</td>\n",
       "      <td>P2</td>\n",
       "    </tr>\n",
       "    <tr>\n",
       "      <th>1</th>\n",
       "      <td>0.0</td>\n",
       "      <td>1.0</td>\n",
       "      <td>1.0</td>\n",
       "      <td>0.0</td>\n",
       "      <td>0.0</td>\n",
       "      <td>0.0</td>\n",
       "      <td>1.0</td>\n",
       "      <td>0.0</td>\n",
       "      <td>0.0</td>\n",
       "      <td>0.0</td>\n",
       "      <td>...</td>\n",
       "      <td>0</td>\n",
       "      <td>19000</td>\n",
       "      <td>50</td>\n",
       "      <td>0</td>\n",
       "      <td>0</td>\n",
       "      <td>0.0</td>\n",
       "      <td>0.0</td>\n",
       "      <td>0</td>\n",
       "      <td>0</td>\n",
       "      <td>P2</td>\n",
       "    </tr>\n",
       "  </tbody>\n",
       "</table>\n",
       "<p>2 rows × 55 columns</p>\n",
       "</div>"
      ],
      "text/plain": [
       "   MARITALSTATUS_Married  MARITALSTATUS_Single  GENDER_F  GENDER_M  \\\n",
       "0                    1.0                   0.0       0.0       1.0   \n",
       "1                    0.0                   1.0       1.0       0.0   \n",
       "\n",
       "   last_prod_enq2_AL  last_prod_enq2_CC  last_prod_enq2_ConsumerLoan  \\\n",
       "0                0.0                0.0                          0.0   \n",
       "1                0.0                0.0                          1.0   \n",
       "\n",
       "   last_prod_enq2_HL  last_prod_enq2_PL  last_prod_enq2_others  ...  enq_L3m  \\\n",
       "0                0.0                1.0                    0.0  ...        0   \n",
       "1                0.0                0.0                    0.0  ...        0   \n",
       "\n",
       "   NETMONTHLYINCOME  Time_With_Curr_Empr  CC_Flag  PL_Flag  \\\n",
       "0             51000                  114        0        1   \n",
       "1             19000                   50        0        0   \n",
       "\n",
       "   pct_PL_enq_L6m_of_ever  pct_CC_enq_L6m_of_ever  HL_Flag  GL_Flag  \\\n",
       "0                     0.0                     0.0        1        0   \n",
       "1                     0.0                     0.0        0        0   \n",
       "\n",
       "   Approved_Flag  \n",
       "0             P2  \n",
       "1             P2  \n",
       "\n",
       "[2 rows x 55 columns]"
      ]
     },
     "execution_count": 225,
     "metadata": {},
     "output_type": "execute_result"
    }
   ],
   "source": [
    "df_encoded.head(2)"
   ]
  },
  {
   "cell_type": "code",
   "execution_count": null,
   "id": "ec7bc33f-ff32-4fe0-9dc7-a69f75685c95",
   "metadata": {},
   "outputs": [],
   "source": []
  },
  {
   "cell_type": "code",
   "execution_count": null,
   "id": "80057659-104b-4e0f-ac21-aea24fecc302",
   "metadata": {},
   "outputs": [],
   "source": []
  }
 ],
 "metadata": {
  "kernelspec": {
   "display_name": "Python 3 (ipykernel)",
   "language": "python",
   "name": "python3"
  },
  "language_info": {
   "codemirror_mode": {
    "name": "ipython",
    "version": 3
   },
   "file_extension": ".py",
   "mimetype": "text/x-python",
   "name": "python",
   "nbconvert_exporter": "python",
   "pygments_lexer": "ipython3",
   "version": "3.11.7"
  }
 },
 "nbformat": 4,
 "nbformat_minor": 5
}
